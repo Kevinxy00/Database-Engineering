{
 "cells": [
  {
   "cell_type": "markdown",
   "metadata": {},
   "source": [
    "# Climate Analysis"
   ]
  },
  {
   "cell_type": "code",
   "execution_count": 1,
   "metadata": {
    "collapsed": true
   },
   "outputs": [],
   "source": [
    "# import dependencies\n",
    "import pandas as pd\n",
    "import matplotlib.pyplot as plt\n",
    "import seaborn as sns\n",
    "from datetime import datetime, timedelta\n",
    "from sqlalchemy import create_engine, MetaData, Table, func, inspect\n",
    "from sqlalchemy.ext.automap import automap_base\n",
    "from sqlalchemy.orm import Session\n",
    "from flask import Flask, jsonify\n"
   ]
  },
  {
   "cell_type": "code",
   "execution_count": 2,
   "metadata": {
    "collapsed": true
   },
   "outputs": [],
   "source": [
    "# Use SQLAlchemy `create_engine` to connect to your sqlite database.\n",
    "engine = create_engine('sqlite:///Resources/hawaii.sqlite')\n",
    "Base = automap_base()\n",
    "# reflect the tables\n",
    "Base.prepare(engine, reflect=True)\n"
   ]
  },
  {
   "cell_type": "code",
   "execution_count": 3,
   "metadata": {},
   "outputs": [
    {
     "data": {
      "text/plain": [
       "['Measurements', 'Stations']"
      ]
     },
     "execution_count": 3,
     "metadata": {},
     "output_type": "execute_result"
    }
   ],
   "source": [
    "# inspect tables and columns\n",
    "inspector = inspect(engine)\n",
    "\n",
    "inspector.get_table_names()"
   ]
  },
  {
   "cell_type": "code",
   "execution_count": 4,
   "metadata": {},
   "outputs": [
    {
     "data": {
      "text/plain": [
       "['Measurements', 'Stations']"
      ]
     },
     "execution_count": 4,
     "metadata": {},
     "output_type": "execute_result"
    }
   ],
   "source": [
    "# print the keys for the created classes\n",
    "Base.classes.keys()"
   ]
  },
  {
   "cell_type": "code",
   "execution_count": 5,
   "metadata": {},
   "outputs": [
    {
     "name": "stdout",
     "output_type": "stream",
     "text": [
      "record_id INTEGER\n",
      "station VARCHAR(255)\n",
      "date DATE\n",
      "precip FLOAT\n",
      "temp FLOAT\n"
     ]
    }
   ],
   "source": [
    "# print list of column names for Measurements\n",
    "columns_M = inspector.get_columns('Measurements')\n",
    "\n",
    "for column in columns_M:\n",
    "    print(column['name'], column['type'])"
   ]
  },
  {
   "cell_type": "code",
   "execution_count": 6,
   "metadata": {},
   "outputs": [
    {
     "name": "stdout",
     "output_type": "stream",
     "text": [
      "station_id INTEGER\n",
      "station VARCHAR(255)\n",
      "name VARCHAR(255)\n",
      "latitude FLOAT\n",
      "longitude FLOAT\n",
      "elevation FLOAT\n"
     ]
    }
   ],
   "source": [
    "# print list of column names for Stations\n",
    "columns_S = inspector.get_columns('Stations')\n",
    "\n",
    "for column in columns_S:\n",
    "    print(column['name'], column['type'])"
   ]
  },
  {
   "cell_type": "code",
   "execution_count": 7,
   "metadata": {
    "collapsed": true
   },
   "outputs": [],
   "source": [
    "# save a reference to those classes called `Station` and `Measurement`.\n",
    "Station = Base.classes.Stations\n",
    "Measurement = Base.classes.Measurements\n",
    "\n",
    "# Create session\n",
    "session = Session(engine)"
   ]
  },
  {
   "cell_type": "code",
   "execution_count": 8,
   "metadata": {},
   "outputs": [
    {
     "name": "stdout",
     "output_type": "stream",
     "text": [
      "(65.0,)\n",
      "(63.0,)\n",
      "(74.0,)\n",
      "(76.0,)\n",
      "(73.0,)\n",
      "(70.0,)\n",
      "(64.0,)\n",
      "(68.0,)\n",
      "(73.0,)\n",
      "(64.0,)\n"
     ]
    }
   ],
   "source": [
    "# Check the data\n",
    "for instance in session.query(Measurement.temp).limit(10).all():\n",
    "    print(instance)"
   ]
  },
  {
   "cell_type": "markdown",
   "metadata": {},
   "source": [
    "## Precipitation Analysis\n"
   ]
  },
  {
   "cell_type": "code",
   "execution_count": 9,
   "metadata": {},
   "outputs": [
    {
     "data": {
      "text/plain": [
       "Timestamp('2016-08-23 00:00:00')"
      ]
     },
     "execution_count": 9,
     "metadata": {},
     "output_type": "execute_result"
    }
   ],
   "source": [
    "# Retrieve the last 12 months of precipitation data. Select only the `date` and `prcp` values.\n",
    "    # first find latest date, which turns out to be '2017-08-23'\n",
    "Latest_date = session.query(Measurement.date).group_by(Measurement.date).order_by(Measurement.date.desc()).first()\n",
    "Latest_date = pd.to_datetime(Latest_date)\n",
    "    # Note: HAVE to convert to datetime object first. Apparently python can't subtract from date object.\n",
    "Latest_date = Latest_date[0] # selects the timestamp\n",
    "\n",
    "    # subtract one year from it\n",
    "year_date = Latest_date - timedelta(days=365)\n",
    "\n",
    "year_date"
   ]
  },
  {
   "cell_type": "code",
   "execution_count": 76,
   "metadata": {},
   "outputs": [
    {
     "data": {
      "text/plain": [
       "(datetime.date(2016, 8, 23), 'MANOA LYON ARBO 785.2, HI US', 0.7)"
      ]
     },
     "execution_count": 76,
     "metadata": {},
     "output_type": "execute_result"
    }
   ],
   "source": [
    "# Query the last 12 months, averaging precip between the various weather stations\n",
    "Last12Precip = session.query(Measurement.date, Station.name, Measurement.precip)\\\n",
    "                            .filter(Measurement.date >= year_date)\\\n",
    "                            .join(Station, Measurement.station == Station.station)\\\n",
    "                            .order_by(Measurement.date.desc())\n",
    "    # note, specific datetime has to be this format 'yyyy-mm-dd' \n",
    "    \n",
    "Last12Precip[0:5]\n",
    "Last12Precip[-1]"
   ]
  },
  {
   "cell_type": "code",
   "execution_count": 77,
   "metadata": {},
   "outputs": [
    {
     "name": "stdout",
     "output_type": "stream",
     "text": [
      "2017-08-23\n"
     ]
    }
   ],
   "source": [
    "# saving dates and prcp values from the query\n",
    "date = [row[0] for row in Last12Precip]\n",
    "station = [row[1] for row in Last12Precip]\n",
    "prcp = [row[2] for row in Last12Precip]\n",
    "\n",
    "# checking if I only stored one value for each variable\n",
    "print(date[0])"
   ]
  },
  {
   "cell_type": "code",
   "execution_count": 78,
   "metadata": {},
   "outputs": [
    {
     "data": {
      "text/html": [
       "<div>\n",
       "<style>\n",
       "    .dataframe thead tr:only-child th {\n",
       "        text-align: right;\n",
       "    }\n",
       "\n",
       "    .dataframe thead th {\n",
       "        text-align: left;\n",
       "    }\n",
       "\n",
       "    .dataframe tbody tr th {\n",
       "        vertical-align: top;\n",
       "    }\n",
       "</style>\n",
       "<table border=\"1\" class=\"dataframe\">\n",
       "  <thead>\n",
       "    <tr style=\"text-align: right;\">\n",
       "      <th></th>\n",
       "      <th>prcp</th>\n",
       "    </tr>\n",
       "    <tr>\n",
       "      <th>date</th>\n",
       "      <th></th>\n",
       "    </tr>\n",
       "  </thead>\n",
       "  <tbody>\n",
       "    <tr>\n",
       "      <th>2017-08-23</th>\n",
       "      <td>0.00</td>\n",
       "    </tr>\n",
       "    <tr>\n",
       "      <th>2017-08-23</th>\n",
       "      <td>0.00</td>\n",
       "    </tr>\n",
       "    <tr>\n",
       "      <th>2017-08-23</th>\n",
       "      <td>0.08</td>\n",
       "    </tr>\n",
       "    <tr>\n",
       "      <th>2017-08-23</th>\n",
       "      <td>0.45</td>\n",
       "    </tr>\n",
       "    <tr>\n",
       "      <th>2017-08-22</th>\n",
       "      <td>0.00</td>\n",
       "    </tr>\n",
       "  </tbody>\n",
       "</table>\n",
       "</div>"
      ],
      "text/plain": [
       "            prcp\n",
       "date            \n",
       "2017-08-23  0.00\n",
       "2017-08-23  0.00\n",
       "2017-08-23  0.08\n",
       "2017-08-23  0.45\n",
       "2017-08-22  0.00"
      ]
     },
     "execution_count": 78,
     "metadata": {},
     "output_type": "execute_result"
    }
   ],
   "source": [
    "# Load the query results into a Pandas DataFrame and set the index to the date column.\n",
    "Prcp_df = pd.DataFrame(list(zip(date, prcp)), columns=['date', 'prcp']) \n",
    "Prcp_df.set_index('date', inplace=True)\n",
    "Prcp_df.head()"
   ]
  },
  {
   "cell_type": "code",
   "execution_count": 79,
   "metadata": {},
   "outputs": [
    {
     "data": {
      "image/png": "[encoded data removed]",
      "text/plain": [
       "<matplotlib.figure.Figure at 0x1dbb1f9bcc0>"
      ]
     },
     "metadata": {},
     "output_type": "display_data"
    }
   ],
   "source": [
    "# Plot the results using the DataFrame `plot` method.\n",
    "sns.set_style('darkgrid')\n",
    "Prcp_df.plot(figsize=(11, 8))\n",
    "plt.title('Precipitation in Hawaii: Past Twelve Months from ' + str(Latest_date))\n",
    "plt.ylabel('Precipitation')\n",
    "plt.show()"
   ]
  },
  {
   "cell_type": "code",
   "execution_count": 60,
   "metadata": {},
   "outputs": [
    {
     "data": {
      "text/html": [
       "<div>\n",
       "<style>\n",
       "    .dataframe thead tr:only-child th {\n",
       "        text-align: right;\n",
       "    }\n",
       "\n",
       "    .dataframe thead th {\n",
       "        text-align: left;\n",
       "    }\n",
       "\n",
       "    .dataframe tbody tr th {\n",
       "        vertical-align: top;\n",
       "    }\n",
       "</style>\n",
       "<table border=\"1\" class=\"dataframe\">\n",
       "  <thead>\n",
       "    <tr style=\"text-align: right;\">\n",
       "      <th></th>\n",
       "      <th>prcp</th>\n",
       "    </tr>\n",
       "  </thead>\n",
       "  <tbody>\n",
       "    <tr>\n",
       "      <th>count</th>\n",
       "      <td>2021.000000</td>\n",
       "    </tr>\n",
       "    <tr>\n",
       "      <th>mean</th>\n",
       "      <td>0.177279</td>\n",
       "    </tr>\n",
       "    <tr>\n",
       "      <th>std</th>\n",
       "      <td>0.461190</td>\n",
       "    </tr>\n",
       "    <tr>\n",
       "      <th>min</th>\n",
       "      <td>0.000000</td>\n",
       "    </tr>\n",
       "    <tr>\n",
       "      <th>25%</th>\n",
       "      <td>0.000000</td>\n",
       "    </tr>\n",
       "    <tr>\n",
       "      <th>50%</th>\n",
       "      <td>0.020000</td>\n",
       "    </tr>\n",
       "    <tr>\n",
       "      <th>75%</th>\n",
       "      <td>0.130000</td>\n",
       "    </tr>\n",
       "    <tr>\n",
       "      <th>max</th>\n",
       "      <td>6.700000</td>\n",
       "    </tr>\n",
       "  </tbody>\n",
       "</table>\n",
       "</div>"
      ],
      "text/plain": [
       "              prcp\n",
       "count  2021.000000\n",
       "mean      0.177279\n",
       "std       0.461190\n",
       "min       0.000000\n",
       "25%       0.000000\n",
       "50%       0.020000\n",
       "75%       0.130000\n",
       "max       6.700000"
      ]
     },
     "execution_count": 60,
     "metadata": {},
     "output_type": "execute_result"
    }
   ],
   "source": [
    "# Summary stats for Prcp_df\n",
    "Prcp_df.describe()"
   ]
  },
  {
   "cell_type": "markdown",
   "metadata": {},
   "source": [
    "## Station Analysis"
   ]
  },
  {
   "cell_type": "code",
   "execution_count": 15,
   "metadata": {},
   "outputs": [
    {
     "name": "stdout",
     "output_type": "stream",
     "text": [
      "Number of stations: 9\n"
     ]
    }
   ],
   "source": [
    "# Query to calculate the total number of stations.\n",
    "station_num = session.query(Station.station_id).count()\n",
    "print('Number of stations: ' + str(station_num))"
   ]
  },
  {
   "cell_type": "code",
   "execution_count": 96,
   "metadata": {},
   "outputs": [
    {
     "name": "stdout",
     "output_type": "stream",
     "text": [
      "Station, station name, and activity count:\n",
      "**********************\n",
      "('USC00519281', 'WAIHEE 837.5, HI US', 2772)\n",
      "('USC00519397', 'WAIKIKI 717.2, HI US', 2724)\n",
      "('USC00513117', 'KANEOHE 838.1, HI US', 2709)\n",
      "('USC00519523', 'WAIMANALO EXPERIMENTAL FARM, HI US', 2669)\n",
      "('USC00516128', 'MANOA LYON ARBO 785.2, HI US', 2612)\n",
      "('USC00514830', 'KUALOA RANCH HEADQUARTERS 886.9, HI US', 2202)\n",
      "('USC00511918', 'HONOLULU OBSERVATORY 702.2, HI US', 1979)\n",
      "('USC00517948', 'PEARL CITY, HI US', 1372)\n",
      "('USC00518838', 'UPPER WAHIAWA 874.3, HI US', 511)\n",
      "**********************\n",
      "Most Active Station: USC00519281 (WAIHEE 837.5, HI US)\n"
     ]
    }
   ],
   "source": [
    "''' Query to find the most active stations.\n",
    "  * List the stations and observation counts in descending order\n",
    "  * Which station has the highest number of observations?\n",
    "'''\n",
    "station_active = session.query(Measurement.station, Station.name, func.count(Measurement.station))\\\n",
    "                                .join(Station, Measurement.station == Station.station)\\\n",
    "                                .group_by(Measurement.station)\\\n",
    "                                .order_by(func.count(Measurement.station).desc())\n",
    "\n",
    "# Printing findings        \n",
    "print('Station, station name, and activity count:')\n",
    "print('**********************')\n",
    "\n",
    "for instance in station_active:\n",
    "    print(instance)\n",
    "\n",
    "station_most = station_active[0][0]\n",
    "name_most = station_active[0][1]\n",
    "\n",
    "print('**********************')\n",
    "print('Most Active Station: ' + station_most + ' (' + name_most + ')')"
   ]
  },
  {
   "cell_type": "code",
   "execution_count": 97,
   "metadata": {},
   "outputs": [
    {
     "data": {
      "text/plain": [
       "[(datetime.date(2016, 8, 23), 77.0),\n",
       " (datetime.date(2016, 8, 24), 77.0),\n",
       " (datetime.date(2016, 8, 25), 80.0),\n",
       " (datetime.date(2016, 8, 26), 80.0),\n",
       " (datetime.date(2016, 8, 27), 75.0)]"
      ]
     },
     "execution_count": 97,
     "metadata": {},
     "output_type": "execute_result"
    }
   ],
   "source": [
    "''' Query to retrieve the last 12 months of temperature observation data (tobs).\n",
    "  * Filter by the station with the highest number of observations.\n",
    "'''\n",
    "Last_Temps = session.query(Measurement.date, Measurement.temp)\\\n",
    "            .filter(Measurement.station==station_most, Measurement.date >= year_date)\n",
    "\n",
    "# Check if query was correct \n",
    "Last_Temps[0:5]"
   ]
  },
  {
   "cell_type": "code",
   "execution_count": 98,
   "metadata": {},
   "outputs": [
    {
     "data": {
      "text/html": [
       "<div>\n",
       "<style>\n",
       "    .dataframe thead tr:only-child th {\n",
       "        text-align: right;\n",
       "    }\n",
       "\n",
       "    .dataframe thead th {\n",
       "        text-align: left;\n",
       "    }\n",
       "\n",
       "    .dataframe tbody tr th {\n",
       "        vertical-align: top;\n",
       "    }\n",
       "</style>\n",
       "<table border=\"1\" class=\"dataframe\">\n",
       "  <thead>\n",
       "    <tr style=\"text-align: right;\">\n",
       "      <th></th>\n",
       "      <th>temp</th>\n",
       "    </tr>\n",
       "    <tr>\n",
       "      <th>date</th>\n",
       "      <th></th>\n",
       "    </tr>\n",
       "  </thead>\n",
       "  <tbody>\n",
       "    <tr>\n",
       "      <th>2017-08-14</th>\n",
       "      <td>77.0</td>\n",
       "    </tr>\n",
       "    <tr>\n",
       "      <th>2017-08-15</th>\n",
       "      <td>77.0</td>\n",
       "    </tr>\n",
       "    <tr>\n",
       "      <th>2017-08-16</th>\n",
       "      <td>76.0</td>\n",
       "    </tr>\n",
       "    <tr>\n",
       "      <th>2017-08-17</th>\n",
       "      <td>76.0</td>\n",
       "    </tr>\n",
       "    <tr>\n",
       "      <th>2017-08-18</th>\n",
       "      <td>79.0</td>\n",
       "    </tr>\n",
       "  </tbody>\n",
       "</table>\n",
       "</div>"
      ],
      "text/plain": [
       "            temp\n",
       "date            \n",
       "2017-08-14  77.0\n",
       "2017-08-15  77.0\n",
       "2017-08-16  76.0\n",
       "2017-08-17  76.0\n",
       "2017-08-18  79.0"
      ]
     },
     "execution_count": 98,
     "metadata": {},
     "output_type": "execute_result"
    }
   ],
   "source": [
    "# * Load the query results into a Pandas DataFrame and set the index to the date column.\n",
    "Date = [row[0] for row in Last_Temps]\n",
    "Temps = [row[1] for row in Last_Temps]\n",
    "Last_Temps_df = pd.DataFrame(list(zip(Date, Temps)), columns=['date', 'temp'])\n",
    "Last_Temps_df.set_index('date', inplace=True)\n",
    "Last_Temps_df.tail()"
   ]
  },
  {
   "cell_type": "code",
   "execution_count": 99,
   "metadata": {},
   "outputs": [
    {
     "data": {
      "image/png": "[encoded data removed]",
      "text/plain": [
       "<matplotlib.figure.Figure at 0x1dbb1b8d908>"
      ]
     },
     "metadata": {},
     "output_type": "display_data"
    }
   ],
   "source": [
    "# Plot the results as a histogram with `bins=12`.\n",
    "Last_Temps_df.hist(figsize=(11, 8), bins=12)\n",
    "plt.title('Temperature Observation Data: Past Twelve Months From ' + str(Latest_date))\n",
    "plt.xlabel('Temperature in Fahrenheit')\n",
    "plt.ylabel('Frequency')\n",
    "plt.show()"
   ]
  },
  {
   "cell_type": "markdown",
   "metadata": {},
   "source": [
    "## Temperature Analysis"
   ]
  },
  {
   "cell_type": "code",
   "execution_count": 101,
   "metadata": {
    "collapsed": true
   },
   "outputs": [],
   "source": [
    "''' Write a function called `calc_temps` that will accept a start date and end date \n",
    "    in the format `%Y-%m-%d` and return the minimum, average, and maximum temperatures \n",
    "    for that range of dates.\n",
    "'''\n",
    "def calc_temps(start_date, end_date):\n",
    "    try:\n",
    "        temp_range = session.query(Measurement.date, func.min(Measurement.temp), \\\n",
    "                    func.avg(Measurement.temp), func.max(Measurement.temp))\\\n",
    "                    .filter(Measurement.date.between(start_date, end_date))\\\n",
    "                    .group_by(Measurement.date)\\\n",
    "                    .order_by(Measurement.date)\n",
    "        return(temp_range)\n",
    "        \n",
    "    except ValueError:\n",
    "        print('There was a wrong parameter!')\n"
   ]
  },
  {
   "cell_type": "code",
   "execution_count": 102,
   "metadata": {},
   "outputs": [
    {
     "name": "stdout",
     "output_type": "stream",
     "text": [
      "(datetime.date(2016, 8, 20), 76.0, 79.66666666666667, 81.0)\n",
      "(datetime.date(2016, 8, 21), 74.0, 77.0, 80.0)\n",
      "(datetime.date(2016, 8, 22), 72.0, 77.28571428571429, 80.0)\n",
      "(datetime.date(2016, 8, 23), 74.0, 78.28571428571429, 81.0)\n",
      "(datetime.date(2016, 8, 24), 74.0, 77.57142857142857, 80.0)\n",
      "(datetime.date(2016, 8, 25), 77.0, 79.42857142857143, 81.0)\n",
      "(datetime.date(2016, 8, 26), 78.0, 80.5, 84.0)\n",
      "(datetime.date(2016, 8, 27), 73.0, 76.83333333333333, 81.0)\n"
     ]
    }
   ],
   "source": [
    "# Calculate tempuratures for my \"vacation\"\n",
    "    # This years vacation is from '2017-08-20' to '2017-08-27'\n",
    "    # I will use last year's values to calculate what to expect on this year's trip\n",
    "vacation = calc_temps('2016-08-20', '2016-08-27')\n",
    "\n",
    "for days in vacation:\n",
    "    print(days)"
   ]
  },
  {
   "cell_type": "code",
   "execution_count": 103,
   "metadata": {},
   "outputs": [
    {
     "data": {
      "text/html": [
       "<div>\n",
       "<style>\n",
       "    .dataframe thead tr:only-child th {\n",
       "        text-align: right;\n",
       "    }\n",
       "\n",
       "    .dataframe thead th {\n",
       "        text-align: left;\n",
       "    }\n",
       "\n",
       "    .dataframe tbody tr th {\n",
       "        vertical-align: top;\n",
       "    }\n",
       "</style>\n",
       "<table border=\"1\" class=\"dataframe\">\n",
       "  <thead>\n",
       "    <tr style=\"text-align: right;\">\n",
       "      <th></th>\n",
       "      <th>avg_temp</th>\n",
       "      <th>max_temp</th>\n",
       "      <th>min_temp</th>\n",
       "      <th>range_temp</th>\n",
       "    </tr>\n",
       "    <tr>\n",
       "      <th>date</th>\n",
       "      <th></th>\n",
       "      <th></th>\n",
       "      <th></th>\n",
       "      <th></th>\n",
       "    </tr>\n",
       "  </thead>\n",
       "  <tbody>\n",
       "    <tr>\n",
       "      <th>2016-08-20</th>\n",
       "      <td>79.666667</td>\n",
       "      <td>81.0</td>\n",
       "      <td>76.0</td>\n",
       "      <td>5.0</td>\n",
       "    </tr>\n",
       "    <tr>\n",
       "      <th>2016-08-21</th>\n",
       "      <td>77.000000</td>\n",
       "      <td>80.0</td>\n",
       "      <td>74.0</td>\n",
       "      <td>6.0</td>\n",
       "    </tr>\n",
       "    <tr>\n",
       "      <th>2016-08-22</th>\n",
       "      <td>77.285714</td>\n",
       "      <td>80.0</td>\n",
       "      <td>72.0</td>\n",
       "      <td>8.0</td>\n",
       "    </tr>\n",
       "    <tr>\n",
       "      <th>2016-08-23</th>\n",
       "      <td>78.285714</td>\n",
       "      <td>81.0</td>\n",
       "      <td>74.0</td>\n",
       "      <td>7.0</td>\n",
       "    </tr>\n",
       "    <tr>\n",
       "      <th>2016-08-24</th>\n",
       "      <td>77.571429</td>\n",
       "      <td>80.0</td>\n",
       "      <td>74.0</td>\n",
       "      <td>6.0</td>\n",
       "    </tr>\n",
       "    <tr>\n",
       "      <th>2016-08-25</th>\n",
       "      <td>79.428571</td>\n",
       "      <td>81.0</td>\n",
       "      <td>77.0</td>\n",
       "      <td>4.0</td>\n",
       "    </tr>\n",
       "    <tr>\n",
       "      <th>2016-08-26</th>\n",
       "      <td>80.500000</td>\n",
       "      <td>84.0</td>\n",
       "      <td>78.0</td>\n",
       "      <td>6.0</td>\n",
       "    </tr>\n",
       "    <tr>\n",
       "      <th>2016-08-27</th>\n",
       "      <td>76.833333</td>\n",
       "      <td>81.0</td>\n",
       "      <td>73.0</td>\n",
       "      <td>8.0</td>\n",
       "    </tr>\n",
       "  </tbody>\n",
       "</table>\n",
       "</div>"
      ],
      "text/plain": [
       "             avg_temp  max_temp  min_temp  range_temp\n",
       "date                                                 \n",
       "2016-08-20  79.666667      81.0      76.0         5.0\n",
       "2016-08-21  77.000000      80.0      74.0         6.0\n",
       "2016-08-22  77.285714      80.0      72.0         8.0\n",
       "2016-08-23  78.285714      81.0      74.0         7.0\n",
       "2016-08-24  77.571429      80.0      74.0         6.0\n",
       "2016-08-25  79.428571      81.0      77.0         4.0\n",
       "2016-08-26  80.500000      84.0      78.0         6.0\n",
       "2016-08-27  76.833333      81.0      73.0         8.0"
      ]
     },
     "execution_count": 103,
     "metadata": {},
     "output_type": "execute_result"
    }
   ],
   "source": [
    "# Save vacation weather data into a df\n",
    "vacation_dic = {'date':[], 'min_temp':[], 'avg_temp':[], 'max_temp':[], 'range_temp':[]}\n",
    "for day in vacation:\n",
    "    vacation_dic['date'].append(day[0])\n",
    "    vacation_dic['min_temp'].append(day[1])\n",
    "    vacation_dic['avg_temp'].append(day[2])\n",
    "    vacation_dic['max_temp'].append(day[3])\n",
    "    vacation_dic['range_temp'].append(day[3] - day[1]) # The day's Max temp - min temp\n",
    "    \n",
    "vacation_df = pd.DataFrame(vacation_dic)\n",
    "vacation_df.set_index('date', inplace=True)\n",
    "\n",
    "vacation_df"
   ]
  },
  {
   "cell_type": "code",
   "execution_count": 104,
   "metadata": {},
   "outputs": [
    {
     "data": {
      "image/png": "[encoded data removed]",
      "text/plain": [
       "<matplotlib.figure.Figure at 0x1dbb2093c50>"
      ]
     },
     "metadata": {},
     "output_type": "display_data"
    }
   ],
   "source": [
    "'''Plot the min, avg, and max temperature from your previous query as a bar chart.\n",
    "  * Use the average temperature as the bar height.\n",
    "  * Use the peak-to-peak (tmax-tmin) value as the y error bar (yerr).\n",
    "'''\n",
    "vacation_df.plot(x=vacation_df.index, y='avg_temp', kind='bar', yerr='range_temp', figsize=(11, 8))\n",
    "plt.title(\"Vacation Average Temperatures\")\n",
    "plt.ylabel('Temperature(F)')\n",
    "plt.show()"
   ]
  },
  {
   "cell_type": "markdown",
   "metadata": {},
   "source": [
    "## Climate App, a Flask api"
   ]
  },
  {
   "cell_type": "code",
   "execution_count": 164,
   "metadata": {
    "collapsed": true
   },
   "outputs": [],
   "source": [
    "# design a Flask api based on the queries that you have just developed.\n",
    "app = Flask(__name__)\n",
    "\n",
    "# App route at the start\n",
    "@app.route('/')\n",
    "def welcome():\n",
    "    # Returns strings informing user of all available api routes\n",
    "        # note: HTML line breaks work here, not python \\n\n",
    "    return(\"Welcome to my Hawaii Weather API! </br>\" \n",
    "        \"Available api routes: </br>\"\n",
    "        \"Average Precipitation for the last 12 months: /api/v1.0/precipitation </br>\"\n",
    "        \"List of Stations: /api/v1.0/stations </br>\"\n",
    "        \"List of Temperature Observations (tobs) for the last 12 months: /api/v1.0/tobs </br>\"\n",
    "        \"List of temperatures for a given start range: /api/v1.0/start_date </br>\"\n",
    "        \"List of temperatures for a given start-end range: /api/v1.0/start_date/end_date </br>\"\n",
    "        \"Note: start_date and end_date are variables of dates (format: YYYY-MM-DD)\"\n",
    "    )\n"
   ]
  },
  {
   "cell_type": "code",
   "execution_count": 165,
   "metadata": {
    "collapsed": true
   },
   "outputs": [],
   "source": [
    "# API route for json of precipitation\n",
    "    # See Precipitation Analysis section for prcp variables used here\n",
    "@app.route('/api/v1.0/precipitation')\n",
    "def show_precip():\n",
    "    data = []\n",
    "    '''copy/paste from the previous query: \n",
    "    date = [row[0] for row in Last12Precip]\n",
    "    prcp = [row[2] for row in Last12Precip]'''\n",
    "    data_row_count = 0\n",
    "    for row in Last12Precip:\n",
    "        data.append({'date':row[0], 'station_name':row[1], 'avg_prcp':row[2]})\n",
    "    return jsonify(data)"
   ]
  },
  {
   "cell_type": "code",
   "execution_count": 166,
   "metadata": {},
   "outputs": [
    {
     "name": "stdout",
     "output_type": "stream",
     "text": [
      "{'date': datetime.date(2017, 8, 23), 'station_name': 'WAIKIKI 717.2, HI US', 'avg_prcp': 0.0}\n"
     ]
    }
   ],
   "source": [
    "# Test to see if the for loop within show_precip() worked\n",
    "data = []\n",
    "for row in Last12Precip:\n",
    "        data.append({'date':row[0], 'station_name':row[1], 'avg_prcp':row[2]})\n",
    "print(str(data[0]))"
   ]
  },
  {
   "cell_type": "code",
   "execution_count": 167,
   "metadata": {
    "collapsed": true
   },
   "outputs": [],
   "source": [
    "# API route for a list of stations from the dataset\n",
    "@app.route('/api/v1.0/stations')\n",
    "def show_stations():\n",
    "    station_ls = []\n",
    "    # Note: station_active is found in the Station Analysis section\n",
    "    for row in station_active:\n",
    "        station_ls.append({'station':row[0], 'name':row[1]})\n",
    "    return jsonify(station_ls)"
   ]
  },
  {
   "cell_type": "code",
   "execution_count": 168,
   "metadata": {},
   "outputs": [
    {
     "name": "stdout",
     "output_type": "stream",
     "text": [
      "[{'station': 'USC00519281', 'name': 'WAIHEE 837.5, HI US'}, {'station': 'USC00519397', 'name': 'WAIKIKI 717.2, HI US'}, {'station': 'USC00513117', 'name': 'KANEOHE 838.1, HI US'}, {'station': 'USC00519523', 'name': 'WAIMANALO EXPERIMENTAL FARM, HI US'}, {'station': 'USC00516128', 'name': 'MANOA LYON ARBO 785.2, HI US'}, {'station': 'USC00514830', 'name': 'KUALOA RANCH HEADQUARTERS 886.9, HI US'}, {'station': 'USC00511918', 'name': 'HONOLULU OBSERVATORY 702.2, HI US'}, {'station': 'USC00517948', 'name': 'PEARL CITY, HI US'}, {'station': 'USC00518838', 'name': 'UPPER WAHIAWA 874.3, HI US'}]\n"
     ]
    }
   ],
   "source": [
    "# Test to see if the for loop within show_stations() worked\n",
    "station_ls = []\n",
    "    # Note: station_active is found in the Station Analysis section\n",
    "for row in station_active:\n",
    "    station_ls.append({'station':row[0], 'name':row[1]})\n",
    "\n",
    "print(station_ls)\n"
   ]
  },
  {
   "cell_type": "code",
   "execution_count": 169,
   "metadata": {
    "collapsed": true
   },
   "outputs": [],
   "source": [
    "# API route for json of Temperature Observations (tobs) for the last 12 months\n",
    "@app.route('/api/v1.0/tobs')\n",
    "def show_tobs():\n",
    "    temps_ls = [] \n",
    "    all_temps = calc_temps(year_date, Latest_date) \n",
    "        # note: year_date and Latest_date are in precipitation analysis section\n",
    "    for days in all_temps:\n",
    "        temps_ls.append({'date':days[0], 'min_temp':days[1], 'avg_temp':days[2], 'max_temp':days[3]})\n",
    "    return jsonify(temps_ls)"
   ]
  },
  {
   "cell_type": "code",
   "execution_count": 170,
   "metadata": {},
   "outputs": [
    {
     "name": "stdout",
     "output_type": "stream",
     "text": [
      "[{'date': datetime.date(2016, 8, 23), 'min_temp': 74.0, 'avg_temp': 78.28571428571429, 'max_temp': 81.0}, {'date': datetime.date(2016, 8, 24), 'min_temp': 74.0, 'avg_temp': 77.57142857142857, 'max_temp': 80.0}]\n",
      "{'date': datetime.date(2017, 8, 23), 'min_temp': 76.0, 'avg_temp': 80.25, 'max_temp': 82.0}\n"
     ]
    }
   ],
   "source": [
    "# Test to see if the for loop within show_tobs() worked\n",
    "\n",
    "temps_ls = [] \n",
    "all_temps = calc_temps(year_date, Latest_date)\n",
    "for days in all_temps:\n",
    "    temps_ls.append({'date':days[0], 'min_temp':days[1], 'avg_temp':days[2], 'max_temp':days[3]})\n",
    "    \n",
    "print(temps_ls[0:2])\n",
    "print(temps_ls[-1])"
   ]
  },
  {
   "cell_type": "code",
   "execution_count": 176,
   "metadata": {},
   "outputs": [],
   "source": [
    "# API route for json of temps for a given start or start-end range.\n",
    "# First, create function that will be used for both app routes \n",
    "    # gets dates based on temperatures\n",
    "def temps_dates(start = Latest_date, end = Latest_date): \n",
    "    temps_ls = []\n",
    "    get_temps = calc_temps(start, end)\n",
    "    for days in get_temps:\n",
    "        temps_ls.append({'date':days[0], 'min_temp':days[1], 'avg_temp':days[2], 'max_temp':days[3]})\n",
    "    return temps_ls\n",
    "\n",
    "# Note: Latest_date var at Precipitation Analysis section"
   ]
  },
  {
   "cell_type": "code",
   "execution_count": 172,
   "metadata": {},
   "outputs": [],
   "source": [
    "# API routes for inputted temps \n",
    "@app.route('/api/v1.0/<start>')\n",
    "def start_temps_api(start):\n",
    "    return jsonify(temps_dates(start))\n",
    "\n",
    "@app.route('/api/v1.0/<start>/<end>')\n",
    "def all_temps_api(start, end):\n",
    "    return jsonify(temps_dates(start, end))"
   ]
  },
  {
   "cell_type": "code",
   "execution_count": 173,
   "metadata": {},
   "outputs": [
    {
     "name": "stdout",
     "output_type": "stream",
     "text": [
      "{'date': datetime.date(2017, 8, 16), 'min_temp': 71.0, 'avg_temp': 77.0, 'max_temp': 82.0}\n",
      "{'date': datetime.date(2017, 8, 17), 'min_temp': 72.0, 'avg_temp': 77.25, 'max_temp': 83.0}\n",
      "{'date': datetime.date(2017, 8, 18), 'min_temp': 76.0, 'avg_temp': 78.0, 'max_temp': 80.0}\n",
      "{'date': datetime.date(2017, 8, 19), 'min_temp': 71.0, 'avg_temp': 78.75, 'max_temp': 85.0}\n",
      "{'date': datetime.date(2017, 8, 20), 'min_temp': 78.0, 'avg_temp': 79.66666666666667, 'max_temp': 81.0}\n"
     ]
    }
   ],
   "source": [
    "# Test to see if the for loop within temps_api_dates() worked\n",
    "for i in temps_dates('2017-08-16', '2017-08-20'):\n",
    "    print(i)"
   ]
  },
  {
   "cell_type": "code",
   "execution_count": 174,
   "metadata": {},
   "outputs": [
    {
     "data": {
      "text/plain": [
       "\"May need to create @app.route('/api/v1.0/<start>') since route with both start\\n    and end dates returns 404 error if only one date is inputted\\n\""
      ]
     },
     "execution_count": 174,
     "metadata": {},
     "output_type": "execute_result"
    }
   ],
   "source": [
    "'''May need to create @app.route('/api/v1.0/<start>') since route with both start\n",
    "    and end dates returns 404 error if only one date is inputted\n",
    "'''"
   ]
  },
  {
   "cell_type": "code",
   "execution_count": 175,
   "metadata": {},
   "outputs": [
    {
     "name": "stderr",
     "output_type": "stream",
     "text": [
      " * Running on http://127.0.0.1:5000/ (Press CTRL+C to quit)\n",
      "127.0.0.1 - - [28/Jan/2018 15:48:42] \"GET / HTTP/1.1\" 200 -\n",
      "127.0.0.1 - - [28/Jan/2018 15:48:57] \"GET /api/v1.0/2017-08-16/2017-08-20 HTTP/1.1\" 200 -\n",
      "127.0.0.1 - - [28/Jan/2018 15:49:05] \"GET /api/v1.0/2017-08-16/2017-08-22 HTTP/1.1\" 200 -\n",
      "127.0.0.1 - - [28/Jan/2018 15:49:11] \"GET /api/v1.0/2017-08-16/2018-08-22 HTTP/1.1\" 200 -\n"
     ]
    }
   ],
   "source": [
    "# run app\n",
    "if __name__ == '__main__':\n",
    "    app.run()\n"
   ]
  }
 ],
 "metadata": {
  "kernelspec": {
   "display_name": "Python (PythonData)",
   "language": "python",
   "name": "pythondata"
  },
  "language_info": {
   "codemirror_mode": {
    "name": "ipython",
    "version": 3
   },
   "file_extension": ".py",
   "mimetype": "text/x-python",
   "name": "python",
   "nbconvert_exporter": "python",
   "pygments_lexer": "ipython3",
   "version": "3.6.3"
  }
 },
 "nbformat": 4,
 "nbformat_minor": 2
}
